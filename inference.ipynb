{
 "cells": [
  {
   "cell_type": "markdown",
   "id": "7f995f57",
   "metadata": {},
   "source": [
    "# Inference dengan melakukan hit endpoint model yang di host dengan tf serving"
   ]
  },
  {
   "cell_type": "code",
   "execution_count": 45,
   "id": "1d7ba133",
   "metadata": {},
   "outputs": [],
   "source": [
    "import tensorflow as tf\n",
    "import requests"
   ]
  },
  {
   "cell_type": "code",
   "execution_count": 46,
   "id": "f503757a",
   "metadata": {},
   "outputs": [],
   "source": [
    "def images_preprocessing(filename):\n",
    "   \n",
    "    image = tf.io.decode_image(open(filename, 'rb').read(), channels=3)\n",
    "    image = tf.image.resize(image, [150, 150])\n",
    "    image = image/255.\n",
    "   \n",
    "    image_tensor = tf.expand_dims(image, 0)\n",
    "    image_tensor = image_tensor.numpy().tolist()\n",
    "   \n",
    "    return image_tensor\n",
    " \n",
    "filename1 = 'images/horse1.png'\n",
    "filename2 = 'images/cat.jpeg'\n",
    "filename3 = 'images/dog1.jpg'\n",
    "filename4 = 'images/elephant103.jpg'\n",
    "filename5 = 'images/lion.jpg'\n",
    "image_tensor1 = images_preprocessing(filename=filename1)\n",
    "image_tensor2=  images_preprocessing(filename=filename2)\n",
    "image_tensor3 = images_preprocessing(filename=filename3)\n",
    "image_tensor4 = images_preprocessing(filename=filename4)\n",
    "image_tensor5 = images_preprocessing(filename=filename5)"
   ]
  },
  {
   "cell_type": "code",
   "execution_count": 47,
   "id": "844c8b8c",
   "metadata": {},
   "outputs": [
    {
     "name": "stdout",
     "output_type": "stream",
     "text": [
      "horses\n"
     ]
    }
   ],
   "source": [
    "json_data = {\n",
    "    \"instances\": image_tensor1\n",
    "}\n",
    "\n",
    "endpoint = \"http://localhost:8501/v1/models/animal_classif_model:predict\"\n",
    " \n",
    "response = requests.post(endpoint, json=json_data)\n",
    " \n",
    "response.json()\n",
    "prediction = tf.argmax(response.json()['predictions'][0]).numpy()\n",
    " \n",
    "map_labels = {0: \"cat\", 1: \"dog\", 2: \"elephant\", 3: \"horses\", 4:\"lion\"}\n",
    "print(map_labels[prediction])\n"
   ]
  },
  {
   "cell_type": "code",
   "execution_count": 48,
   "id": "e3353b11",
   "metadata": {},
   "outputs": [
    {
     "name": "stdout",
     "output_type": "stream",
     "text": [
      "cat\n"
     ]
    }
   ],
   "source": [
    "json_data = {\n",
    "    \"instances\": image_tensor2\n",
    "}\n",
    "\n",
    "endpoint = \"http://localhost:8501/v1/models/animal_classif_model:predict\"\n",
    " \n",
    "response = requests.post(endpoint, json=json_data)\n",
    " \n",
    "response.json()\n",
    "prediction = tf.argmax(response.json()['predictions'][0]).numpy()\n",
    " \n",
    "map_labels = {0: \"cat\", 1: \"dog\", 2: \"elephant\", 3: \"horses\", 4:\"lion\"}\n",
    "print(map_labels[prediction])\n"
   ]
  },
  {
   "cell_type": "code",
   "execution_count": 49,
   "id": "52d56b43",
   "metadata": {},
   "outputs": [
    {
     "name": "stdout",
     "output_type": "stream",
     "text": [
      "dog\n"
     ]
    }
   ],
   "source": [
    "json_data = {\n",
    "    \"instances\": image_tensor3\n",
    "}\n",
    "\n",
    "endpoint = \"http://localhost:8501/v1/models/animal_classif_model:predict\"\n",
    " \n",
    "response = requests.post(endpoint, json=json_data)\n",
    " \n",
    "response.json()\n",
    "prediction = tf.argmax(response.json()['predictions'][0]).numpy()\n",
    " \n",
    "map_labels = {0: \"cat\", 1: \"dog\", 2: \"elephant\", 3: \"horses\", 4:\"lion\"}\n",
    "print(map_labels[prediction])\n"
   ]
  },
  {
   "cell_type": "code",
   "execution_count": 50,
   "id": "95120fb2",
   "metadata": {},
   "outputs": [
    {
     "name": "stdout",
     "output_type": "stream",
     "text": [
      "elephant\n"
     ]
    }
   ],
   "source": [
    "json_data = {\n",
    "    \"instances\": image_tensor4\n",
    "}\n",
    "\n",
    "endpoint = \"http://localhost:8501/v1/models/animal_classif_model:predict\"\n",
    " \n",
    "response = requests.post(endpoint, json=json_data)\n",
    " \n",
    "response.json()\n",
    "prediction = tf.argmax(response.json()['predictions'][0]).numpy()\n",
    " \n",
    "map_labels = {0: \"cat\", 1: \"dog\", 2: \"elephant\", 3: \"horses\", 4:\"lion\"}\n",
    "print(map_labels[prediction])\n"
   ]
  }
 ],
 "metadata": {
  "kernelspec": {
   "display_name": ".venv",
   "language": "python",
   "name": "python3"
  },
  "language_info": {
   "codemirror_mode": {
    "name": "ipython",
    "version": 3
   },
   "file_extension": ".py",
   "mimetype": "text/x-python",
   "name": "python",
   "nbconvert_exporter": "python",
   "pygments_lexer": "ipython3",
   "version": "3.12.2"
  }
 },
 "nbformat": 4,
 "nbformat_minor": 5
}
